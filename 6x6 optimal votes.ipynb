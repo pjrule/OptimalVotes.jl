{
  "nbformat": 4,
  "nbformat_minor": 0,
  "metadata": {
    "kernelspec": {
      "name": "julia-1.2",
      "display_name": "Julia 1.2"
    },
    "accelerator": "GPU",
    "colab": {
      "name": "6x6 optimal votes",
      "provenance": [],
      "collapsed_sections": []
    }
  },
 "cells": [
  {
   "cell_type": "code",
   "execution_count": null,
   "metadata": {},
   "outputs": [],
   "source": [
    "# Installation cell for Google Colab (due to Stenetorp/Bradbury; bumped version!)\n",
    "# see https://colab.research.google.com/drive/1gMhnrMNP-het4rexXLXHzaOytfDpUxgR\n",
    "%%shell\n",
    "if ! command -v julia 2>&1 > /dev/null\n",
    "then\n",
    "    wget 'https://julialang-s3.julialang.org/bin/linux/x64/1.2/julia-1.2.0-linux-x86_64.tar.gz' \\\n",
    "        -O /tmp/julia.tar.gz\n",
    "    tar -x -f /tmp/julia.tar.gz -C /usr/local --strip-components 1\n",
    "    rm /tmp/julia.tar.gz\n",
    "fi\n",
    "julia -e 'using Pkg; pkg\"add IJulia; precompile;\"'"
   ]
  },
  {
   "cell_type": "code",
   "execution_count": 1,
   "metadata": {},
   "outputs": [
    {
     "name": "stdout",
     "output_type": "stream",
     "text": [
      "\u001b[32m\u001b[1m  Updating\u001b[22m\u001b[39m registry at `~/.julia/registries/General`\n",
      "\u001b[32m\u001b[1m  Updating\u001b[22m\u001b[39m git-repo `https://github.com/JuliaRegistries/General.git`\n",
      "\u001b[2K\u001b[?25h[1mFetching:\u001b[22m\u001b[39m [========================================>]  100.0 %.0 %41.0 %>       ]  82.3 %\u001b[32m\u001b[1m Resolving\u001b[22m\u001b[39m package versions...\n",
      "\u001b[32m\u001b[1m  Updating\u001b[22m\u001b[39m `~/Google Drive/Tufts/MGGG/OptimalVotes.jl/Project.toml`\n",
      "\u001b[90m [no changes]\u001b[39m\n",
      "\u001b[32m\u001b[1m  Updating\u001b[22m\u001b[39m `~/Google Drive/Tufts/MGGG/OptimalVotes.jl/Manifest.toml`\n",
      "\u001b[90m [no changes]\u001b[39m\n",
      "\u001b[32m\u001b[1m Resolving\u001b[22m\u001b[39m package versions...\n",
      "\u001b[32m\u001b[1m  Updating\u001b[22m\u001b[39m `~/Google Drive/Tufts/MGGG/OptimalVotes.jl/Project.toml`\n",
      "\u001b[90m [no changes]\u001b[39m\n",
      "\u001b[32m\u001b[1m  Updating\u001b[22m\u001b[39m `~/Google Drive/Tufts/MGGG/OptimalVotes.jl/Manifest.toml`\n",
      "\u001b[90m [no changes]\u001b[39m\n"
     ]
    },
    {
     "name": "stderr",
     "output_type": "stream",
     "text": [
      "┌ Info: CUDAdrv.jl failed to initialize, GPU functionality unavailable (set JULIA_CUDA_SILENT or JULIA_CUDA_VERBOSE to silence or expand this message)\n",
      "└ @ CUDAdrv /Users/pjrule/.julia/packages/CUDAdrv/aBgcd/src/CUDAdrv.jl:69\n"
     ]
    }
   ],
   "source": [
    "import Pkg; Pkg.add(\"CUDAnative\"); Pkg.add(\"CuArrays\");\n",
    "using Random\n",
    "using CuArrays\n",
    "using CUDAnative\n",
    "using Statistics"
   ]
  },
  {
   "cell_type": "code",
   "execution_count": 2,
   "metadata": {},
   "outputs": [
    {
     "data": {
      "text/plain": [
       "gpu (generic function with 1 method)"
      ]
     },
     "execution_count": 2,
     "metadata": {},
     "output_type": "execute_result"
    }
   ],
   "source": [
    "# Hack to enable CUDA development on non-CUDA-enabled machines:\n",
    "# https://juliagpu.gitlab.io/CUDA.jl/installation/conditional/#Scenario-2:-GPU-is-optional-1\n",
    "if CuArrays.functional()\n",
    "    CuArrays.allowscalar(false)\n",
    "    gpu(x::AbstractArray) = CuArray(x)\n",
    "else\n",
    "    gpu(x::AbstractArray) = x\n",
    "end"
   ]
  },
  {
   "cell_type": "code",
   "execution_count": 52,
   "metadata": {},
   "outputs": [
    {
     "data": {
      "text/plain": [
       "GridEnsemble"
      ]
     },
     "execution_count": 52,
     "metadata": {},
     "output_type": "execute_result"
    }
   ],
   "source": [
    "struct GridEnsemble\n",
    "    width::Int\n",
    "    height::Int\n",
    "    size::Int\n",
    "    n_districts::Int\n",
    "    district_pop::Int\n",
    "    weights::AbstractArray{Int}\n",
    "    plans::AbstractArray{Int, 2}\n",
    "    n_plans::Int\n",
    "end\n",
    "\n",
    "\"\"\"Load enumerated plans from a @zschutzman-style CSV.\"\"\"\n",
    "function GridEnsemble(plans_file::AbstractString, width::Int, height::Int, n_districts::Int)\n",
    "    n_plans = countlines(plans_file)\n",
    "    plans = zeros(Int, n_plans, width * height)\n",
    "    weights = ones(Int, n_plans)\n",
    "    \n",
    "    open(plans_file) do file\n",
    "        for (plan_idx, plan) in enumerate(eachline(file))\n",
    "            assignments = [parse(Int, a) for a in split(plan, \",\")]\n",
    "            @assert length(assignments) == width * height\n",
    "            @simd for i in 1:length(assignments)\n",
    "                plans[plan_idx, i] = assignments[i]\n",
    "            end\n",
    "        end\n",
    "    end\n",
    "    \n",
    "    district_pop = Int((width * height) / n_districts)\n",
    "    plan_size = width * height\n",
    "    return GridEnsemble(width, height, plan_size, n_districts, district_pop,\n",
    "                        gpu(weights), gpu(plans), size(plans, 1))\n",
    "end"
   ]
  },
  {
   "cell_type": "code",
   "execution_count": 53,
   "metadata": {},
   "outputs": [
    {
     "data": {
      "text/plain": [
       "Δ_neighbors"
      ]
     },
     "execution_count": 53,
     "metadata": {},
     "output_type": "execute_result"
    }
   ],
   "source": [
    "\"\"\"Generate all neighbors to the current vote distribution `baseline` ∈ Δ.\n",
    "\n",
    "    Neighbors are formed by moving one voter left, right, up, or down one unit.\n",
    "\"\"\"\n",
    "function Δ_neighbors(baseline::Array{Int}, width::Int, height::Int)::Set{Array{Int}}\n",
    "    neighbors = Set{Array{Int}}()\n",
    "    baseline_grid = reshape(baseline, width, height)\n",
    "    for row in 1:height\n",
    "        for col in 1:width\n",
    "            if baseline_grid[row, col] == 1\n",
    "                perturbed = copy(baseline_grid)\n",
    "                perturbed[row, col] = 0\n",
    "                left = copy(perturbed)\n",
    "                left[row, max(1, col - 1)] = 1\n",
    "                right = copy(perturbed)\n",
    "                left[row, min(col, width)] = 1\n",
    "                up = copy(perturbed)\n",
    "                up[max(1, row - 1), col] = 1\n",
    "                down = copy(perturbed)\n",
    "                down[min(row, height), col] = 1\n",
    "                push!(neighbors, flatten(left), flatten(right),\n",
    "                      flatten(up), flatten(down))\n",
    "            end\n",
    "        end\n",
    "    end\n",
    "    pop!(neighbors, baseline)\n",
    "    return neighbors\n",
    "end"
   ]
  },
  {
   "cell_type": "code",
   "execution_count": 71,
   "metadata": {},
   "outputs": [
    {
     "data": {
      "text/plain": [
       "vote_share (generic function with 1 method)"
      ]
     },
     "execution_count": 71,
     "metadata": {},
     "output_type": "execute_result"
    }
   ],
   "source": [
    "function kernel_vote_share(plans::CuArray{Int, 2},\n",
    "                           δ::CuArray{Int},\n",
    "                           results_buf::CuArray{Int},\n",
    "                           params::CuArray{Int})\n",
    "    # params[0] – plan size\n",
    "    # params[1] – district pop\n",
    "    # params[2] – number of districts\n",
    "    plan_idx = (blockIdx().x - 1) * blockDim().x + threadIdx().x\n",
    "    vote_counts = CuArrays.zeros(param[2])  # TODO: will this work?\n",
    "    \n",
    "    win_count = 0\n",
    "    for i in params[0]\n",
    "        vote_counts[plans[plan_idx, i]] += δ[i]\n",
    "    end\n",
    "    for i in 1:params[2]\n",
    "        if vote_counts[i] / params[1] > 0.5\n",
    "            win_count += 1\n",
    "        elseif vote_counts[i] / params[1] == 0.5\n",
    "            win_count += 0.5\n",
    "        end\n",
    "    end\n",
    "    results_buf[plan_idx] = win_count\n",
    "end\n",
    "\n",
    "function vote_share(plan::Array{Int}, δ::Array{Int}, district_pop::Int, n_districts::Int)\n",
    "    vote_counts = zeros(Int, n_districts)\n",
    "    for i in 1:length(plan)\n",
    "        @inbounds vote_counts[plan[i]] += δ[i]\n",
    "    end\n",
    "    win_count = 0\n",
    "    for count in vote_counts\n",
    "        if count / district_pop > 0.5\n",
    "            win_count += 1\n",
    "        elseif count / district_pop == 0.5\n",
    "            win_count += 0.5\n",
    "        end\n",
    "    end\n",
    "    return win_count\n",
    "end"
   ]
  },
  {
   "cell_type": "code",
   "execution_count": 72,
   "metadata": {},
   "outputs": [
    {
     "data": {
      "text/plain": [
       "expected_vote_share (generic function with 1 method)"
      ]
     },
     "execution_count": 72,
     "metadata": {},
     "output_type": "execute_result"
    }
   ],
   "source": [
    "function expected_vote_share(ensemble::GridEnsemble, δ::Array)::Float64\n",
    "    n_plans = length(ensemble.plans)\n",
    "    share = zeros(Float64, n_plans)\n",
    "    if CuArrays.functional()\n",
    "        results_gpu = CuArrays.zeros(ensemble.n_plans)\n",
    "        params = gpu([ensemble.size, ensemble.district_pop,\n",
    "                      ensemble.n_districts])\n",
    "        @cuda threads=2048 kernel_vote_share(plans, gpu(δ), results_gpu, params)\n",
    "        results = Array(results_gpu)\n",
    "    else\n",
    "        results = [vote_share(ensemble.plans[i, :], δ, ensemble.district_pop,\n",
    "                              ensemble.n_districts) for i in 1:ensemble.n_plans]\n",
    "    end\n",
    "    return mean(results)\n",
    "end"
   ]
  },
  {
   "cell_type": "code",
   "execution_count": 66,
   "metadata": {},
   "outputs": [
    {
     "data": {
      "text/plain": [
       "anneal"
      ]
     },
     "execution_count": 66,
     "metadata": {},
     "output_type": "execute_result"
    }
   ],
   "source": [
    "\"\"\"Maximize expected vote share while maintaining partisan split.\"\"\"\n",
    "function anneal(ensemble::GridEnsemble, baseline::Array, objective::Function, temp::Float64, iterations::Int)\n",
    "    best_δ = copy(baseline)\n",
    "    curr_δ = copy(baseline)\n",
    "end"
   ]
  },
  {
   "cell_type": "code",
   "execution_count": 67,
   "metadata": {},
   "outputs": [],
   "source": [
    "ensemble = GridEnsemble(\"enum.csv\", 6, 6, 6);\n",
    "δ = zeros(Int, 36);\n",
    "δ[1:12] .= 1;"
   ]
  },
  {
   "cell_type": "code",
   "execution_count": 78,
   "metadata": {},
   "outputs": [
    {
     "name": "stdout",
     "output_type": "stream",
     "text": [
      "  0.529087 seconds (3.48 M allocations: 383.603 MiB, 32.39% gc time)\n"
     ]
    },
    {
     "data": {
      "text/plain": [
       "1.9137733097520866"
      ]
     },
     "execution_count": 78,
     "metadata": {},
     "output_type": "execute_result"
    }
   ],
   "source": [
    "@time expected_vote_share(ensemble, δ)"
   ]
  },
  {
   "cell_type": "code",
   "execution_count": 33,
   "metadata": {},
   "outputs": [
    {
     "data": {
      "text/plain": [
       "16243416"
      ]
     },
     "execution_count": 33,
     "metadata": {},
     "output_type": "execute_result"
    }
   ],
   "source": [
    "ensemble.n_plans"
   ]
  },
  {
   "cell_type": "code",
   "execution_count": null,
   "metadata": {},
   "outputs": [],
   "source": []
  }
 ],
 "metadata": {
  "kernelspec": {
   "display_name": "Julia 1.2.0",
   "language": "julia",
   "name": "julia-1.2"
  },
  "language_info": {
   "file_extension": ".jl",
   "mimetype": "application/julia",
   "name": "julia",
   "version": "1.2.0"
  }
 },
 "nbformat": 4,
 "nbformat_minor": 4
}
